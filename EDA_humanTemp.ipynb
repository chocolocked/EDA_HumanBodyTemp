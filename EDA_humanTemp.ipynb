{
 "cells": [
  {
   "cell_type": "markdown",
   "metadata": {},
   "source": [
    "# What is the True Normal Human Body Temperature? \n",
    "\n",
    "#### Background\n",
    "\n",
    "The mean normal body temperature was held to be 37$^{\\circ}$C or 98.6$^{\\circ}$F for more than 120 years since it was first conceptualized and reported by Carl Wunderlich in a famous 1868 book. But, is this value statistically correct?"
   ]
  },
  {
   "cell_type": "markdown",
   "metadata": {},
   "source": [
    "<h3>Exercises</h3>\n",
    "\n",
    "<p>In this exercise, you will analyze a dataset of human body temperatures and employ the concepts of hypothesis testing, confidence intervals, and statistical significance.</p>\n",
    "\n",
    "<p>Answer the following questions <b>in this notebook below and submit to your Github account</b>.</p> \n",
    "\n",
    "<ol>\n",
    "<li>  Is the distribution of body temperatures normal? \n",
    "    <ul>\n",
    "    <li> Although this is not a requirement for CLT to hold (read CLT carefully), it gives us some peace of mind that the population may also be normally distributed if we assume that this sample is representative of the population.\n",
    "    </ul>\n",
    "<li>  Is the sample size large? Are the observations independent?\n",
    "    <ul>\n",
    "    <li> Remember that this is a condition for the CLT, and hence the statistical tests we are using, to apply.\n",
    "    </ul>\n",
    "<li>  Is the true population mean really 98.6 degrees F?\n",
    "    <ul>\n",
    "    <li> Would you use a one-sample or two-sample test? Why?\n",
    "    <li> In this situation, is it appropriate to use the $t$ or $z$ statistic? \n",
    "    <li> Now try using the other test. How is the result be different? Why?\n",
    "    </ul>\n",
    "<li>  Draw a small sample of size 10 from the data and repeat both tests. \n",
    "    <ul>\n",
    "    <li> Which one is the correct one to use? \n",
    "    <li> What do you notice? What does this tell you about the difference in application of the $t$ and $z$ statistic?\n",
    "    </ul>\n",
    "<li>  At what temperature should we consider someone's temperature to be \"abnormal\"?\n",
    "    <ul>\n",
    "    <li> Start by computing the margin of error and confidence interval.\n",
    "    </ul>\n",
    "<li>  Is there a significant difference between males and females in normal temperature?\n",
    "    <ul>\n",
    "    <li> What test did you use and why?\n",
    "    <li> Write a story with your conclusion in the context of the original problem.\n",
    "    </ul>\n",
    "</ol>\n",
    "\n",
    "You can include written notes in notebook cells using Markdown: \n",
    "   - In the control panel at the top, choose Cell > Cell Type > Markdown\n",
    "   - Markdown syntax: http://nestacms.com/docs/creating-content/markdown-cheat-sheet\n",
    "\n",
    "#### Resources\n",
    "\n",
    "+ Information and data sources: http://www.amstat.org/publications/jse/datasets/normtemp.txt, http://www.amstat.org/publications/jse/jse_data_archive.htm\n",
    "+ Markdown syntax: http://nestacms.com/docs/creating-content/markdown-cheat-sheet\n",
    "\n",
    "****"
   ]
  },
  {
   "cell_type": "code",
   "execution_count": 1,
   "metadata": {
    "collapsed": true
   },
   "outputs": [],
   "source": [
    "import pandas as pd\n",
    "df = pd.read_csv('data/human_body_temperature.csv')"
   ]
  },
  {
   "cell_type": "code",
   "execution_count": 2,
   "metadata": {},
   "outputs": [
    {
     "data": {
      "text/html": [
       "<div>\n",
       "<style>\n",
       "    .dataframe thead tr:only-child th {\n",
       "        text-align: right;\n",
       "    }\n",
       "\n",
       "    .dataframe thead th {\n",
       "        text-align: left;\n",
       "    }\n",
       "\n",
       "    .dataframe tbody tr th {\n",
       "        vertical-align: top;\n",
       "    }\n",
       "</style>\n",
       "<table border=\"1\" class=\"dataframe\">\n",
       "  <thead>\n",
       "    <tr style=\"text-align: right;\">\n",
       "      <th></th>\n",
       "      <th>temperature</th>\n",
       "      <th>gender</th>\n",
       "      <th>heart_rate</th>\n",
       "    </tr>\n",
       "  </thead>\n",
       "  <tbody>\n",
       "    <tr>\n",
       "      <th>0</th>\n",
       "      <td>99.3</td>\n",
       "      <td>F</td>\n",
       "      <td>68.0</td>\n",
       "    </tr>\n",
       "    <tr>\n",
       "      <th>1</th>\n",
       "      <td>98.4</td>\n",
       "      <td>F</td>\n",
       "      <td>81.0</td>\n",
       "    </tr>\n",
       "    <tr>\n",
       "      <th>2</th>\n",
       "      <td>97.8</td>\n",
       "      <td>M</td>\n",
       "      <td>73.0</td>\n",
       "    </tr>\n",
       "    <tr>\n",
       "      <th>3</th>\n",
       "      <td>99.2</td>\n",
       "      <td>F</td>\n",
       "      <td>66.0</td>\n",
       "    </tr>\n",
       "    <tr>\n",
       "      <th>4</th>\n",
       "      <td>98.0</td>\n",
       "      <td>F</td>\n",
       "      <td>73.0</td>\n",
       "    </tr>\n",
       "  </tbody>\n",
       "</table>\n",
       "</div>"
      ],
      "text/plain": [
       "   temperature gender  heart_rate\n",
       "0         99.3      F        68.0\n",
       "1         98.4      F        81.0\n",
       "2         97.8      M        73.0\n",
       "3         99.2      F        66.0\n",
       "4         98.0      F        73.0"
      ]
     },
     "execution_count": 2,
     "metadata": {},
     "output_type": "execute_result"
    }
   ],
   "source": [
    "df.head()"
   ]
  },
  {
   "cell_type": "code",
   "execution_count": 3,
   "metadata": {
    "collapsed": true
   },
   "outputs": [],
   "source": [
    "import numpy as np\n",
    "import matplotlib.pyplot as plt \n",
    "import seaborn as sns"
   ]
  },
  {
   "cell_type": "code",
   "execution_count": 15,
   "metadata": {},
   "outputs": [
    {
     "data": {
      "image/png": "[encoded data removed]",
      "text/plain": [
       "<matplotlib.figure.Figure at 0x10e66e910>"
      ]
     },
     "metadata": {},
     "output_type": "display_data"
    }
   ],
   "source": [
    "#Q1\n",
    "plt.hist(df.temperature,bins = 50, normed = True)\n",
    "df.temperature.plot(kind='kde')\n",
    "plt.xlabel('human temperature(F)')\n",
    "plt.ylabel('pdf')\n",
    "plt.show()"
   ]
  },
  {
   "cell_type": "markdown",
   "metadata": {},
   "source": [
    "From the histograms above, we could see that the temperature data is approximately normally distributed. However, there are some gaps in between the distribution, the peak is not very symmetrical, and two tails extend a bit far compared to a normal distribution."
   ]
  },
  {
   "cell_type": "code",
   "execution_count": 46,
   "metadata": {},
   "outputs": [
    {
     "data": {
      "image/png": "[encoded data removed]",
      "text/plain": [
       "<matplotlib.figure.Figure at 0x10ef97850>"
      ]
     },
     "metadata": {},
     "output_type": "display_data"
    }
   ],
   "source": [
    "sns.swarmplot(y=df.temperature)\n",
    "plt.ylabel('human temperature(F)')\n",
    "plt.show()"
   ]
  },
  {
   "cell_type": "code",
   "execution_count": 7,
   "metadata": {},
   "outputs": [
    {
     "name": "stdout",
     "output_type": "stream",
     "text": [
      "(130, 3)\n"
     ]
    },
    {
     "data": {
      "text/plain": [
       "0"
      ]
     },
     "execution_count": 7,
     "metadata": {},
     "output_type": "execute_result"
    }
   ],
   "source": [
    "#Q2 \n",
    "print(df.shape)\n",
    "df.isnull().any().sum()"
   ]
  },
  {
   "cell_type": "markdown",
   "metadata": {},
   "source": [
    "The data set contains 130 data points for temperature, so it's reasonably large-sized. We would assume the independence of observations for later analysis, but because of lack of information regarding sampling process, we don't really know the actual situation regarding the independence of observations though."
   ]
  },
  {
   "cell_type": "markdown",
   "metadata": {},
   "source": [
    "#Q3\n",
    "The null hypothesis would be: H0: the mean of population is 98.6F.\n",
    "We only have one set of data, therefore we are using a one-sample test. \n",
    "A z-test is used for testing the mean of a population versus a standard, or comparing the means of two populations,  with large (n ≥ 30) samples whether you know the population standard deviation or not. A t-test is used for testing the mean of one population against a standard or comparing the means of two populations if you do not know the populations’ standard deviation and when you have a limited sample (n < 30).\n",
    "In this case, we are testing the mean of a population VS. a standard, with population standard deviation unknown, and sample size(130) >30. Therefore we would opt for a z-test because of the large sample size. But supposedly, the result from t-test should not be too different from z-test, as for sample set >= 30 the t distribution and z distribution are nearly the same."
   ]
  },
  {
   "cell_type": "code",
   "execution_count": 23,
   "metadata": {},
   "outputs": [],
   "source": [
    "from scipy import stats\n",
    "#!pip install --user Patsy\n",
    "#!pip install --user Cython\n",
    "#!pip install --user statsmodels\n",
    "from statsmodels.stats.weightstats import ztest\n",
    "import statsmodels.stats.api as sms"
   ]
  },
  {
   "cell_type": "code",
   "execution_count": 10,
   "metadata": {},
   "outputs": [
    {
     "name": "stdout",
     "output_type": "stream",
     "text": [
      "('t_score:', -5.4548232923645195, 'p-value:', 2.4106320415561276e-07)\n"
     ]
    }
   ],
   "source": [
    "popmean = 98.6 \n",
    "t_score, pValue = stats.ttest_1samp(df.temperature, popmean, axis=0)\n",
    "print(\"t_score:\", t_score, 'p-value:',pValue)"
   ]
  },
  {
   "cell_type": "code",
   "execution_count": 13,
   "metadata": {},
   "outputs": [
    {
     "name": "stdout",
     "output_type": "stream",
     "text": [
      "('z_score:', -5.4548232923645195, 'p-value:', 4.9021570141012155e-08)\n"
     ]
    }
   ],
   "source": [
    "z_score, pValue = ztest(x1= df.temperature, x2=None, value=popmean, alternative='two-sided', usevar='pooled', ddof=1)\n",
    "print (\"z_score:\", z_score, 'p-value:',pValue)"
   ]
  },
  {
   "cell_type": "markdown",
   "metadata": {},
   "source": [
    "Because population standard deviation is not available, so the sample std is treated as population std. The resulting t and z statistics are the same, but the p-value for z-test is smaller than the t-test. But they both indicate we can reject the null hypothesis that the mean is 98.6 F. "
   ]
  },
  {
   "cell_type": "code",
   "execution_count": 21,
   "metadata": {},
   "outputs": [
    {
     "name": "stdout",
     "output_type": "stream",
     "text": [
      "('t_score:', -0.6393620130910037, 'p-value:', 0.5385184771338527)\n",
      "('z_score:', -0.6393620130910037, 'p-value:', 0.5225874549851894)\n"
     ]
    }
   ],
   "source": [
    "#Q4, for a sample size of 10 \n",
    "sample_10 = np.random.choice(df.temperature, size=10)\n",
    "t_score, pValue = stats.ttest_1samp(sample_10, popmean, axis=0)\n",
    "print(\"t_score:\", t_score, 'p-value:', pValue)\n",
    "z_score, pValue = ztest(x1= sample_10, x2=None, value=popmean, alternative='two-sided', usevar='pooled', ddof=1)\n",
    "print (\"z_score:\", z_score, 'p-value:',pValue)"
   ]
  },
  {
   "cell_type": "markdown",
   "metadata": {},
   "source": [
    "We could see here again, z-test gives us much lower p-value, with more statiscal significance reject the null hypothesis that the normal body temperature is 98.6F."
   ]
  },
  {
   "cell_type": "code",
   "execution_count": 25,
   "metadata": {},
   "outputs": [
    {
     "name": "stdout",
     "output_type": "stream",
     "text": [
      "('99% CI:', (98.08110824239758, 98.41735329606395))\n"
     ]
    }
   ],
   "source": [
    "#Q5 Confidence interval, choosing 99% significance level \n",
    "print('99% CI:',sms.DescrStatsW(df.temperature).tconfint_mean(alpha=0.01))"
   ]
  },
  {
   "cell_type": "markdown",
   "metadata": {},
   "source": [
    "Here we can see that from our sample data, the 99% confidence interval is (98.08110824239758, 98.41735329606395) for normal temperature."
   ]
  },
  {
   "cell_type": "code",
   "execution_count": 28,
   "metadata": {},
   "outputs": [
    {
     "name": "stdout",
     "output_type": "stream",
     "text": [
      "(65, 3)\n",
      "(65, 3)\n"
     ]
    }
   ],
   "source": [
    "#Q6 Difference between females and males?\n",
    "men = df[df.gender == 'M']\n",
    "women = df[df.gender == 'F']\n",
    "print(men.shape) \n",
    "print(women.shape) #how many samples in each"
   ]
  },
  {
   "cell_type": "code",
   "execution_count": 31,
   "metadata": {},
   "outputs": [
    {
     "name": "stdout",
     "output_type": "stream",
     "text": [
      "('z_score:', -2.2854345381656103, 'p-value:', 0.02228736076065755)\n"
     ]
    }
   ],
   "source": [
    "#z-test: null hypothesis: the same mean, difference is zero\n",
    "z_score, pValue = ztest(x1= men.temperature, x2=women.temperature, value=0, alternative='two-sided', usevar='pooled', ddof=1)\n",
    "print (\"z_score:\", z_score, 'p-value:',pValue)"
   ]
  },
  {
   "cell_type": "markdown",
   "metadata": {},
   "source": [
    "We can see that p-value is small enough to reject the null hypothesis at 95% significance level, but not at 99%. But considering the actual anatomy and physiology between men and women, this difference might imply practical importance. Futher we can analyze the issue using more visual methods. "
   ]
  },
  {
   "cell_type": "code",
   "execution_count": 41,
   "metadata": {},
   "outputs": [
    {
     "data": {
      "image/png": "[encoded data removed]",
      "text/plain": [
       "<matplotlib.figure.Figure at 0x1c18069ad0>"
      ]
     },
     "metadata": {},
     "output_type": "display_data"
    }
   ],
   "source": [
    "men.temperature.plot(kind='hist', bins=50, color = 'red', normed= True,label= 'men', alpha = 0.3)\n",
    "men.temperature.plot(kind='kde',color = 'red', label= 'men' )\n",
    "women.temperature.plot(kind='hist', bins=50, color = 'blue', normed= True, label= 'women',alpha = 0.3)\n",
    "women.temperature.plot(kind='kde',color = 'blue',label = 'women')\n",
    "plt.legend(loc='upper right')\n",
    "plt.title('Histogram of body temperature: Men vs. Women')\n",
    "plt.xlabel('temperature(F)')\n",
    "plt.ylabel('pdf')\n",
    "plt.show()"
   ]
  },
  {
   "cell_type": "code",
   "execution_count": 44,
   "metadata": {},
   "outputs": [
    {
     "data": {
      "image/png": "[encoded data removed]",
      "text/plain": [
       "<matplotlib.figure.Figure at 0x10f2379d0>"
      ]
     },
     "metadata": {},
     "output_type": "display_data"
    }
   ],
   "source": [
    "sns.swarmplot(x= df.gender,y=df.temperature)\n",
    "plt.xlabel('gender')\n",
    "plt.ylabel('temperature(F)')\n",
    "plt.show()"
   ]
  },
  {
   "cell_type": "markdown",
   "metadata": {
    "collapsed": true
   },
   "source": [
    "After using hypothesis tests and visual EDA, we can reach to the following conclusions for the dataset.\n",
    "1. Human temperature dataset is approximately normally distributed.\n",
    "2. The dataset indicates that mean normal human temperature is not 98.6F.\n",
    "3. Even small sample size of 10 still imply that the mean is not 98.6F.\n",
    "4. We use 99% confidence interval to calculate the normal temperature range, and any value outside the range is considered abnormal. And 98.6F is not within the range.\n",
    "5. Men and women have different body temperatures. "
   ]
  },
  {
   "cell_type": "code",
   "execution_count": null,
   "metadata": {
    "collapsed": true
   },
   "outputs": [],
   "source": []
  }
 ],
 "metadata": {
  "kernelspec": {
   "display_name": "Python 2",
   "language": "python",
   "name": "python2"
  },
  "language_info": {
   "codemirror_mode": {
    "name": "ipython",
    "version": 2
   },
   "file_extension": ".py",
   "mimetype": "text/x-python",
   "name": "python",
   "nbconvert_exporter": "python",
   "pygments_lexer": "ipython2",
   "version": "2.7.14"
  }
 },
 "nbformat": 4,
 "nbformat_minor": 1
}
